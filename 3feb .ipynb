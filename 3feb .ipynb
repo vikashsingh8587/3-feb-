{
 "cells": [
  {
   "cell_type": "code",
   "execution_count": 20,
   "id": "2473efc4-8cd2-4057-a1a1-11428b93120a",
   "metadata": {},
   "outputs": [],
   "source": [
    "#1.\n"
   ]
  },
  {
   "cell_type": "code",
   "execution_count": 2,
   "id": "03e79c9a-a3b0-4f7d-ad7d-90a9866a0451",
   "metadata": {},
   "outputs": [],
   "source": [
    "# def keyword used to create a function \n",
    "def odd(n):\n",
    "    l1=[]\n",
    "    for i in n:\n",
    "        if i%2!=0:\n",
    "            l1.append(i)\n",
    "    return l1        "
   ]
  },
  {
   "cell_type": "code",
   "execution_count": 3,
   "id": "66ba1706-6d6e-4991-976a-642924c1cbc7",
   "metadata": {},
   "outputs": [
    {
     "data": {
      "text/plain": [
       "[1, 3, 5, 7, 9, 11, 13, 15, 17, 19, 21, 23, 25]"
      ]
     },
     "execution_count": 3,
     "metadata": {},
     "output_type": "execute_result"
    }
   ],
   "source": [
    "odd(list(range(1,26)))"
   ]
  },
  {
   "cell_type": "code",
   "execution_count": 21,
   "id": "fd5a80a1-7d4e-4db2-86c9-aa35b48e0801",
   "metadata": {},
   "outputs": [],
   "source": [
    "# 2 why *args and **kwargsd is used"
   ]
  },
  {
   "cell_type": "code",
   "execution_count": 4,
   "id": "088f71c9-1267-4a39-92e2-b006b69a7789",
   "metadata": {},
   "outputs": [],
   "source": [
    "# *args and **kwargs  are use as argument of function when we unsure about the \n",
    "# the number of arguments to pass the funtion.\n",
    "# these make function flexible so it can accept a large number of argument in function\n",
    "\n",
    "    ##  for example\n",
    "def sum(a,b):\n",
    "    return a+b"
   ]
  },
  {
   "cell_type": "code",
   "execution_count": 5,
   "id": "4ca8c01a-859b-413d-98e4-49d261959c04",
   "metadata": {},
   "outputs": [
    {
     "data": {
      "text/plain": [
       "8"
      ]
     },
     "execution_count": 5,
     "metadata": {},
     "output_type": "execute_result"
    }
   ],
   "source": [
    "sum(3,5)"
   ]
  },
  {
   "cell_type": "code",
   "execution_count": 7,
   "id": "49e56dac-d017-4713-8cdd-117b5b28846f",
   "metadata": {},
   "outputs": [
    {
     "ename": "TypeError",
     "evalue": "sum() takes 2 positional arguments but 3 were given",
     "output_type": "error",
     "traceback": [
      "\u001b[0;31m---------------------------------------------------------------------------\u001b[0m",
      "\u001b[0;31mTypeError\u001b[0m                                 Traceback (most recent call last)",
      "Cell \u001b[0;32mIn[7], line 1\u001b[0m\n\u001b[0;32m----> 1\u001b[0m \u001b[38;5;28;43msum\u001b[39;49m\u001b[43m(\u001b[49m\u001b[38;5;241;43m3\u001b[39;49m\u001b[43m,\u001b[49m\u001b[38;5;241;43m2\u001b[39;49m\u001b[43m,\u001b[49m\u001b[38;5;241;43m5\u001b[39;49m\u001b[43m)\u001b[49m\n\u001b[1;32m      2\u001b[0m \u001b[38;5;66;03m# it give error \u001b[39;00m\n",
      "\u001b[0;31mTypeError\u001b[0m: sum() takes 2 positional arguments but 3 were given"
     ]
    }
   ],
   "source": [
    "sum(3,2,5)\n",
    "# it give error "
   ]
  },
  {
   "cell_type": "code",
   "execution_count": 30,
   "id": "110c90b3-1bca-4c47-9647-3179431cc95b",
   "metadata": {},
   "outputs": [
    {
     "name": "stdout",
     "output_type": "stream",
     "text": [
      "3\n",
      "6\n",
      "10\n"
     ]
    }
   ],
   "source": [
    "#  use * args \n",
    "def sum(*args):\n",
    "    sum =0\n",
    "    for i in args:\n",
    "         sum = sum +i   \n",
    "    return sum\n",
    "    \n",
    "print(sum(1,2))\n",
    "print(sum(1,2,3))\n",
    "print(sum(1,2,3,4))\n",
    " # it is not neccessary that we use *args  we can also we use with another name \n",
    " # as like *vikash , *k,*number ,etc .\n",
    "#  type of *args is tuple "
   ]
  },
  {
   "cell_type": "code",
   "execution_count": 31,
   "id": "39bc51a7-23fd-4544-bc7b-8684eb3f21eb",
   "metadata": {},
   "outputs": [
    {
     "name": "stdout",
     "output_type": "stream",
     "text": [
      "{'k': 5, 'j': 5, 'n': 65, 'l': [5, 6, 54]} <class 'dict'>\n"
     ]
    }
   ],
   "source": [
    "# use**kwargs\n",
    "def vikash(**kwargs):\n",
    "    \n",
    "         print(kwargs,type(kwargs))\n",
    "vikash(k=5,j=5,n=65,l=[5,6,54])  \n",
    " # it is not neccessary that we use **kwargs  we can also we use with another name \n",
    " # as like **vikash , **k,**number ,etc .\n",
    "#  type of **kwargs is dict"
   ]
  },
  {
   "cell_type": "code",
   "execution_count": 19,
   "id": "82806412-971c-47b4-8c23-6fa1b25c0c14",
   "metadata": {},
   "outputs": [],
   "source": [
    "# answer 3 .what is an iterator in python"
   ]
  },
  {
   "cell_type": "code",
   "execution_count": 32,
   "id": "95870c48-4b7b-4c8c-9d77-1e933ed2fdae",
   "metadata": {},
   "outputs": [],
   "source": [
    "# An iterator is an object that contains a countable number of value . an \n",
    "#iterator is an object that can be iterated upon ,meaning that you can be \n",
    "#traversing through all the value .in phython ,an iterator is an object which \n",
    "#implement the iterator protocol ,which consist of the methods iter() and next()\n"
   ]
  },
  {
   "cell_type": "code",
   "execution_count": 39,
   "id": "26c41f81-18b3-41c6-9e25-74a2b502cdf2",
   "metadata": {},
   "outputs": [
    {
     "name": "stdout",
     "output_type": "stream",
     "text": [
      "1\n",
      "2\n",
      "3\n",
      "45\n"
     ]
    }
   ],
   "source": [
    "l =[1,2,3,45]\n",
    "iterator = iter(l)\n",
    "print(next(iterator))\n",
    "print(next(iterator))\n",
    "print(next(iterator))\n",
    "print(next(iterator))\n",
    "# iter() change the list in iterable \n",
    "# next () is use for traversing "
   ]
  },
  {
   "cell_type": "code",
   "execution_count": 46,
   "id": "91af23d3-aea0-4123-b19c-a0ad9cdd493d",
   "metadata": {},
   "outputs": [
    {
     "name": "stdout",
     "output_type": "stream",
     "text": [
      "2\n",
      "4\n",
      "6\n",
      "8\n",
      "10\n"
     ]
    }
   ],
   "source": [
    "l1=[2,4,6,8,10,12,14,16,18,20]\n",
    "element = (iter(l1))\n",
    "for i in range(5) :\n",
    "    \n",
    "        print(next(element))"
   ]
  },
  {
   "cell_type": "code",
   "execution_count": 18,
   "id": "2c2281ce-d327-4647-9cbe-1a18c183e7b1",
   "metadata": {},
   "outputs": [],
   "source": [
    "#4. generator function"
   ]
  },
  {
   "cell_type": "code",
   "execution_count": 1,
   "id": "0555008f-47a0-45e3-b964-822f62998763",
   "metadata": {},
   "outputs": [
    {
     "name": "stdout",
     "output_type": "stream",
     "text": [
      "0\n",
      "1\n",
      "1\n",
      "2\n",
      "3\n"
     ]
    }
   ],
   "source": [
    "# generator function takes an integer n as an argument and produce squence\n",
    "#  of numbers from 0 to n-1. \n",
    "# yeild keywords used to produce a value from the generator function and pouse\n",
    "# the generator function execution untill the next value is requested\n",
    "# fibonnaci number\n",
    "def test_feb(n):\n",
    "    a,b=0,1\n",
    "    for i in range(n):\n",
    "        yield a\n",
    "        a,b=b,a+b\n",
    "for i in test_feb(5):\n",
    "    print(i)        \n",
    "        "
   ]
  },
  {
   "cell_type": "code",
   "execution_count": 17,
   "id": "5c1b348b-c0cc-4e05-8f70-2c45b4f1c3c3",
   "metadata": {},
   "outputs": [],
   "source": [
    "#5. generator function "
   ]
  },
  {
   "cell_type": "code",
   "execution_count": 1,
   "id": "0cde769d-2963-458c-852f-38e702ce5311",
   "metadata": {},
   "outputs": [
    {
     "name": "stdout",
     "output_type": "stream",
     "text": [
      "2\n",
      "3\n",
      "5\n",
      "7\n",
      "11\n",
      "13\n",
      "17\n",
      "19\n",
      "23\n",
      "29\n",
      "31\n",
      "37\n",
      "41\n",
      "43\n",
      "47\n",
      "53\n",
      "59\n",
      "61\n",
      "67\n",
      "71\n"
     ]
    }
   ],
   "source": [
    "def is_prime(n):\n",
    "    if(n<=1):\n",
    "       \n",
    "        return False\n",
    "    if (n>1000):\n",
    "        return False\n",
    "    if (n==2):\n",
    "        return True\n",
    "    if(n%2==0):\n",
    "           return False\n",
    "        \n",
    "    i = 3\n",
    "    while i<=n**(1/2):\n",
    "        if n%i==0:\n",
    "            return False\n",
    "        i=i+2\n",
    "    return True\n",
    "def prime():\n",
    "    n=1\n",
    "    while True:\n",
    "        \n",
    "        if is_prime(n):\n",
    "            yield n\n",
    "                     \n",
    "        n=n+1\n",
    "prime_number=prime()\n",
    "for i in range(20):\n",
    "    print(next(prime_number))            "
   ]
  },
  {
   "cell_type": "code",
   "execution_count": 16,
   "id": "fd1a9f1b-1e03-4f02-b7fb-e7cce513c5d6",
   "metadata": {},
   "outputs": [],
   "source": [
    "# 6. write a python program to print the first 10 fibonnacci number \n",
    "# using while loop"
   ]
  },
  {
   "cell_type": "code",
   "execution_count": 6,
   "id": "21a0a34b-ea36-4652-89ec-378429956a7b",
   "metadata": {},
   "outputs": [
    {
     "name": "stdout",
     "output_type": "stream",
     "text": [
      "0\n",
      "1\n",
      "1\n",
      "2\n",
      "3\n",
      "5\n",
      "8\n",
      "13\n",
      "21\n",
      "34\n"
     ]
    }
   ],
   "source": [
    "a,b=0,1\n",
    "count=0  \n",
    "while count<10:\n",
    "            \n",
    "        print(a)\n",
    "        c=a+b\n",
    "        a=b\n",
    "        b=c\n",
    "        count=count+1\n",
    "    "
   ]
  },
  {
   "cell_type": "code",
   "execution_count": 15,
   "id": "d6795e84-a371-435b-aa08-540c16d6b819",
   "metadata": {},
   "outputs": [],
   "source": [
    "#7. list comprehension  to iterate "
   ]
  },
  {
   "cell_type": "code",
   "execution_count": 7,
   "id": "7d44d4dd-071d-46e3-a117-42f9fd6be5e3",
   "metadata": {},
   "outputs": [
    {
     "data": {
      "text/plain": [
       "['p', 'w', 's', 'k', 'i', 'l', 'l', 's']"
      ]
     },
     "execution_count": 7,
     "metadata": {},
     "output_type": "execute_result"
    }
   ],
   "source": [
    "word = \"pwskills\"\n",
    "[i for i in word]"
   ]
  },
  {
   "cell_type": "code",
   "execution_count": 14,
   "id": "52c00341-befd-4463-9350-1767a5bb4ebc",
   "metadata": {},
   "outputs": [],
   "source": [
    "# 8 . write a python program to check weather a  given number is palindrome or not using a while loop "
   ]
  },
  {
   "cell_type": "code",
   "execution_count": 10,
   "id": "0200995e-6eba-4365-8436-1529a6844d9c",
   "metadata": {},
   "outputs": [
    {
     "name": "stdin",
     "output_type": "stream",
     "text": [
      "enter the number 12321\n"
     ]
    },
    {
     "name": "stdout",
     "output_type": "stream",
     "text": [
      "it is palindrome number\n"
     ]
    }
   ],
   "source": [
    "n= int(input(\"enter the number\"))\n",
    "temp = n\n",
    "reverse = 0\n",
    "while(n>=1):\n",
    "    num = n%10\n",
    "    reverse = reverse*10+num\n",
    "    n=n//10\n",
    "        \n",
    "if (temp==reverse):\n",
    "    print(\"it is palindrome number\")\n",
    "else:\n",
    "    print(\"it is not palindrome number\")"
   ]
  },
  {
   "cell_type": "code",
   "execution_count": null,
   "id": "e4f310ef-8521-4660-b1da-ab6cad73b8c8",
   "metadata": {},
   "outputs": [],
   "source": []
  },
  {
   "cell_type": "code",
   "execution_count": 13,
   "id": "64184220-bc86-4c72-acf3-b14647692589",
   "metadata": {},
   "outputs": [],
   "source": [
    "# 9. write a code to print odd number"
   ]
  },
  {
   "cell_type": "code",
   "execution_count": 12,
   "id": "6cedcbc0-9e5f-4751-814f-94f5240f8254",
   "metadata": {},
   "outputs": [
    {
     "data": {
      "text/plain": [
       "[3,\n",
       " 6,\n",
       " 9,\n",
       " 12,\n",
       " 15,\n",
       " 18,\n",
       " 21,\n",
       " 24,\n",
       " 27,\n",
       " 30,\n",
       " 33,\n",
       " 36,\n",
       " 39,\n",
       " 42,\n",
       " 45,\n",
       " 48,\n",
       " 51,\n",
       " 54,\n",
       " 57,\n",
       " 60,\n",
       " 63,\n",
       " 66,\n",
       " 69,\n",
       " 72,\n",
       " 75,\n",
       " 78,\n",
       " 81,\n",
       " 84,\n",
       " 87,\n",
       " 90,\n",
       " 93,\n",
       " 96,\n",
       " 99]"
      ]
     },
     "execution_count": 12,
     "metadata": {},
     "output_type": "execute_result"
    }
   ],
   "source": [
    "[i for i in range(1,100) if i%3==0]"
   ]
  },
  {
   "cell_type": "code",
   "execution_count": null,
   "id": "e74cce6f-87fd-40f5-b88a-5cb79f9c6822",
   "metadata": {},
   "outputs": [],
   "source": []
  }
 ],
 "metadata": {
  "kernelspec": {
   "display_name": "Python 3 (ipykernel)",
   "language": "python",
   "name": "python3"
  },
  "language_info": {
   "codemirror_mode": {
    "name": "ipython",
    "version": 3
   },
   "file_extension": ".py",
   "mimetype": "text/x-python",
   "name": "python",
   "nbconvert_exporter": "python",
   "pygments_lexer": "ipython3",
   "version": "3.10.8"
  }
 },
 "nbformat": 4,
 "nbformat_minor": 5
}
